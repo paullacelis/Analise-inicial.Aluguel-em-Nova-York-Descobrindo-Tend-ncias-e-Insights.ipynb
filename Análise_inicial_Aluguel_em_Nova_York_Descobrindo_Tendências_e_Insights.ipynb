{
  "cells": [
    {
      "cell_type": "markdown",
      "metadata": {
        "id": "view-in-github",
        "colab_type": "text"
      },
      "source": [
        "<a href=\"https://colab.research.google.com/github/paullacelis/Analise-inicial.Aluguel-em-Nova-York-Descobrindo-Tend-ncias-e-Insights.ipynb/blob/main/An%C3%A1lise_inicial_Aluguel_em_Nova_York_Descobrindo_Tend%C3%AAncias_e_Insights.ipynb\" target=\"_parent\"><img src=\"https://colab.research.google.com/assets/colab-badge.svg\" alt=\"Open In Colab\"/></a>"
      ]
    },
    {
      "cell_type": "markdown",
      "metadata": {
        "id": "RZ5qpXeWajYT"
      },
      "source": [
        "###As perguntas do CEO\n",
        "1. Qual o valor médio do aluguel na cidade de Nova York?\n",
        "2. Quais os nomes das regiões que existem na cidade de Nova York?\n",
        "3. Qual o valor do aluguel diário mais caro da cidade de Nova York?\n"
      ]
    },
    {
      "cell_type": "markdown",
      "metadata": {
        "id": "Z0ggKBvWap3n"
      },
      "source": [
        "\n",
        "### planejamento da solucao\n",
        "Planejamento do Processo\n",
        "Quais são os passos para encontrar as respostas?\n",
        "1. Coletar um conjunto de dados ( planilha de dados )\n",
        "2. Manipular esses dados\n",
        "a. Calcular a média de todos os valores de aluguel da cidade de Nova\n",
        "York.\n",
        "b. Contar todos os nomes distintos que aparecem na coluna região.\n",
        "c. Encontrar o valor máximo da coluna que contém os valores dos\n",
        "aluguéis\n",
        " Pergunta #1\n",
        "Calcular a média de todos os valores de aluguel da cidade\n",
        "de Nova York.\n",
        "1.3.1 Selecionar colunas\n",
        " Pergunta #2\n",
        "Contar todos os nomes distintos que aparecem na coluna\n",
        "região.\n",
        " Pergunta #3\n",
        "Encontrar o valor máximo da coluna que contém os valores\n",
        "dos aluguéis\n",
        "Produto Final\n",
        "E-mail com as respostas\n",
        "\n",
        "\n"
      ]
    },
    {
      "cell_type": "code",
      "execution_count": null,
      "metadata": {
        "id": "F1XCLcPUYBSf"
      },
      "outputs": [],
      "source": [
        "import pandas as pd\n",
        "import numpy as np\n"
      ]
    },
    {
      "cell_type": "code",
      "execution_count": null,
      "metadata": {
        "colab": {
          "background_save": true
        },
        "id": "IpdcP-y0ehF1"
      },
      "outputs": [],
      "source": [
        "data = pd.read_csv('/content/AB_NYC_2019.csv', header=0)"
      ]
    },
    {
      "cell_type": "code",
      "execution_count": null,
      "metadata": {
        "id": "ZXqCD11r7e9l"
      },
      "outputs": [],
      "source": [
        "data.head(7)\n"
      ]
    },
    {
      "cell_type": "code",
      "execution_count": null,
      "metadata": {
        "id": "9BKQXOIQ7qO2"
      },
      "outputs": [],
      "source": [
        "data.shape"
      ]
    },
    {
      "cell_type": "code",
      "source": [
        "data.info()"
      ],
      "metadata": {
        "id": "iy2Y8cjwl_Ku"
      },
      "execution_count": null,
      "outputs": []
    },
    {
      "cell_type": "code",
      "source": [
        "# localizando a coluna preco\n",
        "price = data.loc[:,\"price\"]"
      ],
      "metadata": {
        "id": "rtX0HIhln7fu"
      },
      "execution_count": null,
      "outputs": []
    },
    {
      "cell_type": "code",
      "source": [
        "price"
      ],
      "metadata": {
        "id": "C_hPRtO1prWt"
      },
      "execution_count": null,
      "outputs": []
    },
    {
      "cell_type": "code",
      "source": [
        "# calcular valor medio\n",
        "valorMedio = np.mean(price).round(2)\n",
        "print('O valor medio e')\n",
        "print(valorMedio)"
      ],
      "metadata": {
        "colab": {
          "base_uri": "https://localhost:8080/"
        },
        "id": "7fN1HYLCpv_D",
        "outputId": "82ac5c02-fac7-4f64-d0cd-5c6fd4ff2fa5"
      },
      "execution_count": null,
      "outputs": [
        {
          "output_type": "stream",
          "name": "stdout",
          "text": [
            "O valor medio e\n",
            "152.72\n"
          ]
        }
      ]
    },
    {
      "cell_type": "code",
      "source": [
        "# selecionar coluna regiao\n",
        "regioes = data.loc[:,\"neighbourhood_group\"]\n",
        "regioesUnicas= pd.unique( regioes)\n",
        "regioesUnicas"
      ],
      "metadata": {
        "colab": {
          "base_uri": "https://localhost:8080/"
        },
        "id": "9HbbX_vrrcgJ",
        "outputId": "4450ea42-3b42-48d2-eb22-f97746e96016"
      },
      "execution_count": null,
      "outputs": [
        {
          "output_type": "execute_result",
          "data": {
            "text/plain": [
              "array(['Brooklyn', 'Manhattan', 'Queens', 'Staten Island', 'Bronx'],\n",
              "      dtype=object)"
            ]
          },
          "metadata": {},
          "execution_count": 31
        }
      ]
    },
    {
      "cell_type": "code",
      "source": [
        "# localizando valor maximo\n",
        "valorMaximo = np.max(price)\n",
        "print(\"o valor maximo e \")\n",
        "print(valorMaximo)"
      ],
      "metadata": {
        "colab": {
          "base_uri": "https://localhost:8080/"
        },
        "id": "PyNdQr9Msro9",
        "outputId": "2f0e4e81-db50-4c71-9c25-fea624672109"
      },
      "execution_count": null,
      "outputs": [
        {
          "output_type": "stream",
          "name": "stdout",
          "text": [
            "o valor maximo e \n",
            "10000\n"
          ]
        }
      ]
    }
  ],
  "metadata": {
    "colab": {
      "provenance": [],
      "authorship_tag": "ABX9TyOlLPJG7P9Ek/cRSuVaxykJ",
      "include_colab_link": true
    },
    "kernelspec": {
      "display_name": "Python 3",
      "name": "python3"
    },
    "language_info": {
      "name": "python"
    }
  },
  "nbformat": 4,
  "nbformat_minor": 0
}